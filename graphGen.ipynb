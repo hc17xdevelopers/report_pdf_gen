{
 "cells": [
  {
   "cell_type": "code",
   "execution_count": null,
   "id": "00a00ba9-047c-464b-8b20-3fd97bfb0bd7",
   "metadata": {},
   "outputs": [],
   "source": [
    "import os\n",
    "import pandas as pd\n",
    "import matplotlib.pyplot as plt\n",
    "from matplotlib.backends.backend_pdf import PdfPages\n",
    "\n",
    "def process_excel_files(folder_path, output_folder):\n",
    "    excel_files = [file for file in os.listdir(folder_path) if file.endswith('.xlsx')]\n",
    "    consolidated_df = pd.DataFrame()\n",
    "    for file in excel_files:\n",
    "        file_path = os.path.join(folder_path, file)\n",
    "        df = pd.read_excel(file_path)\n",
    "        consolidated_df = pd.concat([consolidated_df, df.set_index('Gauge Name')['Reading']], axis=1, ignore_index=True)\n",
    "\n",
    "   \n",
    "    consolidated_df.columns = [f'Sample{i+1}' for i in range(len(excel_files))]\n",
    "\n",
    "   # no need of this part\n",
    "    transposed_df = consolidated_df\n",
    "    \n",
    "    transposed_path = os.path.join(output_folder, \"consolidated_transposed_data.xlsx\")\n",
    "    transposed_df.to_excel(transposed_path)\n",
    "\n",
    "\n",
    "    pdf_path = os.path.join(output_folder, \"individual_graphs.pdf\")\n",
    "    with PdfPages(pdf_path) as pdf_pages:\n",
    "\n",
    "        num_gauges = len(transposed_df.index)\n",
    "        fig, axes = plt.subplots(nrows=num_gauges, ncols=1, figsize=(10, 5 * num_gauges))\n",
    "\n",
    "        for i, gauge_name in enumerate(transposed_df.index):\n",
    "            axes[i].plot(transposed_df.columns, transposed_df.loc[gauge_name], label=gauge_name)\n",
    "            axes[i].set_xlabel('Sample')\n",
    "            axes[i].set_ylabel('Reading')\n",
    "            axes[i].set_title(f'{gauge_name} Readings')\n",
    "            axes[i].legend()\n",
    "            axes[i].grid(True)\n",
    "\n",
    "\n",
    "            pdf_pages.savefig(fig)\n",
    "\n",
    "    print(f\"Transposed DataFrame saved to: {transposed_path}\")\n",
    "    print(f\"Individual graphs saved to: {pdf_path}\")\n",
    "input_folder_path = \"Folder_with_your_excel_files\"\n",
    "output_folder_path = \"path_to_output_folder\"\n",
    "\n",
    "process_excel_files(input_folder_path, output_folder_path)\n"
   ]
  }
 ],
 "metadata": {
  "kernelspec": {
   "display_name": "Python 3 (ipykernel)",
   "language": "python",
   "name": "python3"
  },
  "language_info": {
   "codemirror_mode": {
    "name": "ipython",
    "version": 3
   },
   "file_extension": ".py",
   "mimetype": "text/x-python",
   "name": "python",
   "nbconvert_exporter": "python",
   "pygments_lexer": "ipython3",
   "version": "3.10.12"
  }
 },
 "nbformat": 4,
 "nbformat_minor": 5
}
